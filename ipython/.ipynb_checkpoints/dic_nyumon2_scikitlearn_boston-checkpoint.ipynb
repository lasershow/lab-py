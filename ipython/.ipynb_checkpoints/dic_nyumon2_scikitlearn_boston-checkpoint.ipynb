{
 "cells": [
  {
   "cell_type": "code",
   "execution_count": 25,
   "metadata": {
    "collapsed": true
   },
   "outputs": [],
   "source": [
    "#今回のデータはアメリカのボストン近郊での住宅の価格に関するデータです。\n",
    "import numpy as np\n",
    "from sklearn.datasets import load_boston\n",
    "boston = load_boston()\n",
    "import pandas as pd\n",
    "X=pd.DataFrame(boston.data[:100,:], columns=boston.feature_names)\n",
    "y=boston.target[:100]"
   ]
  },
  {
   "cell_type": "code",
   "execution_count": 26,
   "metadata": {
    "collapsed": true
   },
   "outputs": [],
   "source": [
    "#その特徴量としてLSTATを使うことにします。先ほどのデータフレームからnumpy arrayに念のためデータを写しておきましょう。\n",
    "x=X['LSTAT'].values"
   ]
  },
  {
   "cell_type": "code",
   "execution_count": 27,
   "metadata": {
    "scrolled": true
   },
   "outputs": [
    {
     "name": "stdout",
     "output_type": "stream",
     "text": [
      "[  4.98   9.14   4.03   2.94   5.33   5.21  12.43  19.15  29.93  17.1\n",
      "  20.45  13.27  15.71   8.26  10.26   8.47   6.58  14.67  11.69  11.28\n",
      "  21.02  13.83  18.72  19.88  16.3   16.51  14.81  17.28  12.8   11.98\n",
      "  22.6   13.04  27.71  18.35  20.34   9.68  11.41   8.77  10.13   4.32\n",
      "   1.98   4.84   5.81   7.44   9.55  10.21  14.15  18.8   30.81  16.2\n",
      "  13.45   9.43   5.28   8.43  14.8    4.81   5.77   3.95   6.86   9.22\n",
      "  13.15  14.44   6.73   9.5    8.05   4.67  10.24   8.1   13.09   8.79\n",
      "   6.72   9.88   5.52   7.54   6.78   8.94  11.97  10.27  12.34   9.1\n",
      "   5.29   7.22   6.72   7.51   9.62   6.53  12.86   8.44   5.5    5.7\n",
      "   8.81   8.2    8.16   6.21  10.59   6.65  11.34   4.21   3.57   6.19]\n"
     ]
    },
    {
     "data": {
      "text/plain": [
       "0    4.98\n",
       "1    9.14\n",
       "2    4.03\n",
       "3    2.94\n",
       "4    5.33\n",
       "Name: LSTAT, dtype: float64"
      ]
     },
     "execution_count": 27,
     "metadata": {},
     "output_type": "execute_result"
    }
   ],
   "source": [
    "print(x)\n",
    "X['LSTAT'].head()"
   ]
  },
  {
   "cell_type": "code",
   "execution_count": 28,
   "metadata": {},
   "outputs": [
    {
     "data": {
      "text/plain": [
       "<matplotlib.collections.PathCollection at 0x1987ff886a0>"
      ]
     },
     "execution_count": 28,
     "metadata": {},
     "output_type": "execute_result"
    },
    {
     "data": {
      "image/png": "[encoded data removed]",
      "text/plain": [
       "<matplotlib.figure.Figure at 0x1987f4ca6d8>"
      ]
     },
     "metadata": {},
     "output_type": "display_data"
    }
   ],
   "source": [
    "import matplotlib.pyplot as plt\n",
    "import seaborn as sns\n",
    "%matplotlib inline\n",
    "plt.scatter(x,y)"
   ]
  },
  {
   "cell_type": "markdown",
   "metadata": {},
   "source": [
    "# 単回帰"
   ]
  },
  {
   "cell_type": "code",
   "execution_count": 29,
   "metadata": {
    "collapsed": true
   },
   "outputs": [],
   "source": [
    "#線形回帰のインスタンスを用意します。\n",
    "\n",
    "from sklearn.linear_model import LinearRegression\n",
    "lin_1d = LinearRegression()"
   ]
  },
  {
   "cell_type": "code",
   "execution_count": 30,
   "metadata": {},
   "outputs": [
    {
     "data": {
      "text/plain": [
       "LinearRegression(copy_X=True, fit_intercept=True, n_jobs=1, normalize=False)"
      ]
     },
     "execution_count": 30,
     "metadata": {},
     "output_type": "execute_result"
    }
   ],
   "source": [
    "# 次にデータに合う傾きと切片を求めるのですが、たったひとつのコマンドだけで求めることが可能です。\n",
    "# scikit learnでは、fit関数に渡す引数xは、行列である必要があるので、x[:,None]とすることで、xをベクトルから行列に変換しています。\n",
    "lin_1d.fit(x[:,None],y)"
   ]
  },
  {
   "cell_type": "code",
   "execution_count": 31,
   "metadata": {},
   "outputs": [
    {
     "data": {
      "text/plain": [
       "1"
      ]
     },
     "execution_count": 31,
     "metadata": {},
     "output_type": "execute_result"
    }
   ],
   "source": [
    "x.ndim"
   ]
  },
  {
   "cell_type": "code",
   "execution_count": 32,
   "metadata": {},
   "outputs": [
    {
     "data": {
      "text/plain": [
       "2"
      ]
     },
     "execution_count": 32,
     "metadata": {},
     "output_type": "execute_result"
    }
   ],
   "source": [
    "#fit関数に渡す引数xは、行列である必要があるので、x[:,None]\n",
    "x[:,None].ndim"
   ]
  },
  {
   "cell_type": "code",
   "execution_count": 33,
   "metadata": {},
   "outputs": [
    {
     "data": {
      "text/plain": [
       "array([ 11.30238006])"
      ]
     },
     "execution_count": 33,
     "metadata": {},
     "output_type": "execute_result"
    }
   ],
   "source": [
    "lin_1d.predict(2)\n",
    "lin_1d.predict(10)\n",
    "lin_1d.predict(25)"
   ]
  },
  {
   "cell_type": "code",
   "execution_count": 34,
   "metadata": {},
   "outputs": [
    {
     "data": {
      "text/plain": [
       "[]"
      ]
     },
     "execution_count": 34,
     "metadata": {},
     "output_type": "execute_result"
    },
    {
     "data": {
      "image/png": "[encoded data removed]",
      "text/plain": [
       "<matplotlib.figure.Figure at 0x19801356978>"
      ]
     },
     "metadata": {},
     "output_type": "display_data"
    }
   ],
   "source": [
    "#まずプロット用のデータを用意します。\n",
    "n = np.linspace(np.min(x),np.max(x), 1000)\n",
    "y_1d_fit=lin_1d.predict(n[:,np.newaxis])\n",
    "\n",
    "plt.title(\"Boston House Price\")\n",
    "plt.scatter(x,y,label='data')\n",
    "plt.plot(n,y_1d_fit,'r',label='1d_lin')\n",
    "plt.ylim(10,40)#グラフを見やすくするためにｙ軸のプロット範囲を絞っているだけです。\n",
    "plt.xlabel(\"LSTAT\")\n",
    "plt.ylabel(\"price\")\n",
    "plt.legend()\n",
    "plt.plot()"
   ]
  },
  {
   "cell_type": "code",
   "execution_count": 35,
   "metadata": {},
   "outputs": [
    {
     "data": {
      "text/plain": [
       "[]"
      ]
     },
     "execution_count": 35,
     "metadata": {},
     "output_type": "execute_result"
    },
    {
     "data": {
      "image/png": "[encoded data removed]",
      "text/plain": [
       "<matplotlib.figure.Figure at 0x19801356ba8>"
      ]
     },
     "metadata": {},
     "output_type": "display_data"
    }
   ],
   "source": [
    "#まずプロット用のデータを用意します。\n",
    "n = np.linspace(np.min(x),np.max(x), 1000)\n",
    "y_1d_fit=lin_1d.predict(n[:,np.newaxis])\n",
    "\n",
    "plt.title(\"Boston House Price\")\n",
    "plt.scatter(x,y,label='data')\n",
    "plt.plot(n,y_1d_fit,'r',label='1d_lin')\n",
    "plt.ylim(10,40)#グラフを見やすくするためにｙ軸のプロット範囲を絞っているだけです。\n",
    "plt.xlabel(\"LSTAT\")\n",
    "plt.ylabel(\"price\")\n",
    "plt.legend()\n",
    "plt.plot()"
   ]
  },
  {
   "cell_type": "markdown",
   "metadata": {},
   "source": [
    "# 多項式回帰"
   ]
  },
  {
   "cell_type": "code",
   "execution_count": 36,
   "metadata": {
    "collapsed": true
   },
   "outputs": [],
   "source": [
    "from sklearn.preprocessing import PolynomialFeatures\n",
    "degree_2=PolynomialFeatures(degree=2)"
   ]
  },
  {
   "cell_type": "code",
   "execution_count": 37,
   "metadata": {
    "collapsed": true
   },
   "outputs": [],
   "source": [
    "#ｘ軸の特徴量の2乗の成分が必要 ｘ軸の特徴量の2乗の成分が必要\n",
    "x_2=degree_2.fit_transform(x[:,None])"
   ]
  },
  {
   "cell_type": "code",
   "execution_count": 38,
   "metadata": {
    "collapsed": true
   },
   "outputs": [
    {
     "data": {
      "text/plain": [
       "array([[   1.    ,    4.98  ,   24.8004],\n",
       "       [   1.    ,    9.14  ,   83.5396],\n",
       "       [   1.    ,    4.03  ,   16.2409],\n",
       "       [   1.    ,    2.94  ,    8.6436],\n",
       "       [   1.    ,    5.33  ,   28.4089],\n",
       "       [   1.    ,    5.21  ,   27.1441],\n",
       "       [   1.    ,   12.43  ,  154.5049],\n",
       "       [   1.    ,   19.15  ,  366.7225],\n",
       "       [   1.    ,   29.93  ,  895.8049],\n",
       "       [   1.    ,   17.1   ,  292.41  ],\n",
       "       [   1.    ,   20.45  ,  418.2025],\n",
       "       [   1.    ,   13.27  ,  176.0929],\n",
       "       [   1.    ,   15.71  ,  246.8041],\n",
       "       [   1.    ,    8.26  ,   68.2276],\n",
       "       [   1.    ,   10.26  ,  105.2676],\n",
       "       [   1.    ,    8.47  ,   71.7409],\n",
       "       [   1.    ,    6.58  ,   43.2964],\n",
       "       [   1.    ,   14.67  ,  215.2089],\n",
       "       [   1.    ,   11.69  ,  136.6561],\n",
       "       [   1.    ,   11.28  ,  127.2384],\n",
       "       [   1.    ,   21.02  ,  441.8404],\n",
       "       [   1.    ,   13.83  ,  191.2689],\n",
       "       [   1.    ,   18.72  ,  350.4384],\n",
       "       [   1.    ,   19.88  ,  395.2144],\n",
       "       [   1.    ,   16.3   ,  265.69  ],\n",
       "       [   1.    ,   16.51  ,  272.5801],\n",
       "       [   1.    ,   14.81  ,  219.3361],\n",
       "       [   1.    ,   17.28  ,  298.5984],\n",
       "       [   1.    ,   12.8   ,  163.84  ],\n",
       "       [   1.    ,   11.98  ,  143.5204],\n",
       "       [   1.    ,   22.6   ,  510.76  ],\n",
       "       [   1.    ,   13.04  ,  170.0416],\n",
       "       [   1.    ,   27.71  ,  767.8441],\n",
       "       [   1.    ,   18.35  ,  336.7225],\n",
       "       [   1.    ,   20.34  ,  413.7156],\n",
       "       [   1.    ,    9.68  ,   93.7024],\n",
       "       [   1.    ,   11.41  ,  130.1881],\n",
       "       [   1.    ,    8.77  ,   76.9129],\n",
       "       [   1.    ,   10.13  ,  102.6169],\n",
       "       [   1.    ,    4.32  ,   18.6624],\n",
       "       [   1.    ,    1.98  ,    3.9204],\n",
       "       [   1.    ,    4.84  ,   23.4256],\n",
       "       [   1.    ,    5.81  ,   33.7561],\n",
       "       [   1.    ,    7.44  ,   55.3536],\n",
       "       [   1.    ,    9.55  ,   91.2025],\n",
       "       [   1.    ,   10.21  ,  104.2441],\n",
       "       [   1.    ,   14.15  ,  200.2225],\n",
       "       [   1.    ,   18.8   ,  353.44  ],\n",
       "       [   1.    ,   30.81  ,  949.2561],\n",
       "       [   1.    ,   16.2   ,  262.44  ],\n",
       "       [   1.    ,   13.45  ,  180.9025],\n",
       "       [   1.    ,    9.43  ,   88.9249],\n",
       "       [   1.    ,    5.28  ,   27.8784],\n",
       "       [   1.    ,    8.43  ,   71.0649],\n",
       "       [   1.    ,   14.8   ,  219.04  ],\n",
       "       [   1.    ,    4.81  ,   23.1361],\n",
       "       [   1.    ,    5.77  ,   33.2929],\n",
       "       [   1.    ,    3.95  ,   15.6025],\n",
       "       [   1.    ,    6.86  ,   47.0596],\n",
       "       [   1.    ,    9.22  ,   85.0084],\n",
       "       [   1.    ,   13.15  ,  172.9225],\n",
       "       [   1.    ,   14.44  ,  208.5136],\n",
       "       [   1.    ,    6.73  ,   45.2929],\n",
       "       [   1.    ,    9.5   ,   90.25  ],\n",
       "       [   1.    ,    8.05  ,   64.8025],\n",
       "       [   1.    ,    4.67  ,   21.8089],\n",
       "       [   1.    ,   10.24  ,  104.8576],\n",
       "       [   1.    ,    8.1   ,   65.61  ],\n",
       "       [   1.    ,   13.09  ,  171.3481],\n",
       "       [   1.    ,    8.79  ,   77.2641],\n",
       "       [   1.    ,    6.72  ,   45.1584],\n",
       "       [   1.    ,    9.88  ,   97.6144],\n",
       "       [   1.    ,    5.52  ,   30.4704],\n",
       "       [   1.    ,    7.54  ,   56.8516],\n",
       "       [   1.    ,    6.78  ,   45.9684],\n",
       "       [   1.    ,    8.94  ,   79.9236],\n",
       "       [   1.    ,   11.97  ,  143.2809],\n",
       "       [   1.    ,   10.27  ,  105.4729],\n",
       "       [   1.    ,   12.34  ,  152.2756],\n",
       "       [   1.    ,    9.1   ,   82.81  ],\n",
       "       [   1.    ,    5.29  ,   27.9841],\n",
       "       [   1.    ,    7.22  ,   52.1284],\n",
       "       [   1.    ,    6.72  ,   45.1584],\n",
       "       [   1.    ,    7.51  ,   56.4001],\n",
       "       [   1.    ,    9.62  ,   92.5444],\n",
       "       [   1.    ,    6.53  ,   42.6409],\n",
       "       [   1.    ,   12.86  ,  165.3796],\n",
       "       [   1.    ,    8.44  ,   71.2336],\n",
       "       [   1.    ,    5.5   ,   30.25  ],\n",
       "       [   1.    ,    5.7   ,   32.49  ],\n",
       "       [   1.    ,    8.81  ,   77.6161],\n",
       "       [   1.    ,    8.2   ,   67.24  ],\n",
       "       [   1.    ,    8.16  ,   66.5856],\n",
       "       [   1.    ,    6.21  ,   38.5641],\n",
       "       [   1.    ,   10.59  ,  112.1481],\n",
       "       [   1.    ,    6.65  ,   44.2225],\n",
       "       [   1.    ,   11.34  ,  128.5956],\n",
       "       [   1.    ,    4.21  ,   17.7241],\n",
       "       [   1.    ,    3.57  ,   12.7449],\n",
       "       [   1.    ,    6.19  ,   38.3161]])"
      ]
     },
     "execution_count": 38,
     "metadata": {},
     "output_type": "execute_result"
    }
   ],
   "source": [
    "x_2"
   ]
  },
  {
   "cell_type": "code",
   "execution_count": 39,
   "metadata": {},
   "outputs": [
    {
     "data": {
      "text/plain": [
       "LinearRegression(copy_X=True, fit_intercept=True, n_jobs=1, normalize=False)"
      ]
     },
     "execution_count": 39,
     "metadata": {},
     "output_type": "execute_result"
    }
   ],
   "source": [
    "lin_2d = LinearRegression()\n",
    "lin_2d.fit(x_2,y)"
   ]
  },
  {
   "cell_type": "code",
   "execution_count": 40,
   "metadata": {},
   "outputs": [
    {
     "data": {
      "text/plain": [
       "[]"
      ]
     },
     "execution_count": 40,
     "metadata": {},
     "output_type": "execute_result"
    },
    {
     "data": {
      "image/png": "[encoded data removed]",
      "text/plain": [
       "<matplotlib.figure.Figure at 0x1987ffad0f0>"
      ]
     },
     "metadata": {},
     "output_type": "display_data"
    }
   ],
   "source": [
    "#まずプロット用のデータを用意します。\n",
    "n = np.linspace(np.min(x),np.max(x), 1000)\n",
    "y_2d_fit=lin_2d.predict(degree_2.fit_transform(n[:,np.newaxis]))\n",
    "y_1d_fit=lin_1d.predict(n[:,np.newaxis])\n",
    "\n",
    "plt.title(\"Boston House Price\")\n",
    "plt.scatter(x,y,label='data')\n",
    "plt.plot(n,y_2d_fit,'g',label='2d_lin')\n",
    "plt.plot(n,y_1d_fit,'r',label='1d_lin')\n",
    "plt.ylim(10,40)#グラフを見やすくするためにｙ軸のプロット範囲を絞ります。\n",
    "plt.xlabel(\"LSTAT\")\n",
    "plt.ylabel(\"price\")\n",
    "plt.legend()\n",
    "plt.plot()"
   ]
  },
  {
   "cell_type": "code",
   "execution_count": 42,
   "metadata": {},
   "outputs": [
    {
     "data": {
      "text/plain": [
       "15.537906007479375"
      ]
     },
     "execution_count": 42,
     "metadata": {},
     "output_type": "execute_result"
    }
   ],
   "source": [
    "from sklearn.metrics import mean_squared_error\n",
    "#まずは1次関数の2乗和誤差をみてみましょう\n",
    "mean_squared_error(y,lin_1d.predict(x[:,None]))\n"
   ]
  },
  {
   "cell_type": "code",
   "execution_count": 44,
   "metadata": {},
   "outputs": [
    {
     "data": {
      "text/plain": [
       "10.920226905348915"
      ]
     },
     "execution_count": 44,
     "metadata": {},
     "output_type": "execute_result"
    }
   ],
   "source": [
    "#次には２次関数の2乗和誤差をみてみましょう\n",
    "mean_squared_error(y,lin_2d.predict(x_2))"
   ]
  },
  {
   "cell_type": "code",
   "execution_count": null,
   "metadata": {
    "collapsed": true
   },
   "outputs": [],
   "source": []
  },
  {
   "cell_type": "code",
   "execution_count": null,
   "metadata": {
    "collapsed": true
   },
   "outputs": [],
   "source": []
  }
 ],
 "metadata": {
  "kernelspec": {
   "display_name": "Python 3",
   "language": "python",
   "name": "python3"
  },
  "language_info": {
   "codemirror_mode": {
    "name": "ipython",
    "version": 3
   },
   "file_extension": ".py",
   "mimetype": "text/x-python",
   "name": "python",
   "nbconvert_exporter": "python",
   "pygments_lexer": "ipython3",
   "version": "3.6.1"
  }
 },
 "nbformat": 4,
 "nbformat_minor": 2
}
